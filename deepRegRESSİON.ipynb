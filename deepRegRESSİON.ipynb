{
 "cells": [
  {
   "cell_type": "code",
   "execution_count": 1,
   "metadata": {},
   "outputs": [
    {
     "name": "stderr",
     "output_type": "stream",
     "text": [
      "Using TensorFlow backend.\n",
      "C:\\Users\\sony\\Anaconda3\\lib\\site-packages\\tensorflow\\python\\framework\\dtypes.py:516: FutureWarning: Passing (type, 1) or '1type' as a synonym of type is deprecated; in a future version of numpy, it will be understood as (type, (1,)) / '(1,)type'.\n",
      "  _np_qint8 = np.dtype([(\"qint8\", np.int8, 1)])\n",
      "C:\\Users\\sony\\Anaconda3\\lib\\site-packages\\tensorflow\\python\\framework\\dtypes.py:517: FutureWarning: Passing (type, 1) or '1type' as a synonym of type is deprecated; in a future version of numpy, it will be understood as (type, (1,)) / '(1,)type'.\n",
      "  _np_quint8 = np.dtype([(\"quint8\", np.uint8, 1)])\n",
      "C:\\Users\\sony\\Anaconda3\\lib\\site-packages\\tensorflow\\python\\framework\\dtypes.py:518: FutureWarning: Passing (type, 1) or '1type' as a synonym of type is deprecated; in a future version of numpy, it will be understood as (type, (1,)) / '(1,)type'.\n",
      "  _np_qint16 = np.dtype([(\"qint16\", np.int16, 1)])\n",
      "C:\\Users\\sony\\Anaconda3\\lib\\site-packages\\tensorflow\\python\\framework\\dtypes.py:519: FutureWarning: Passing (type, 1) or '1type' as a synonym of type is deprecated; in a future version of numpy, it will be understood as (type, (1,)) / '(1,)type'.\n",
      "  _np_quint16 = np.dtype([(\"quint16\", np.uint16, 1)])\n",
      "C:\\Users\\sony\\Anaconda3\\lib\\site-packages\\tensorflow\\python\\framework\\dtypes.py:520: FutureWarning: Passing (type, 1) or '1type' as a synonym of type is deprecated; in a future version of numpy, it will be understood as (type, (1,)) / '(1,)type'.\n",
      "  _np_qint32 = np.dtype([(\"qint32\", np.int32, 1)])\n",
      "C:\\Users\\sony\\Anaconda3\\lib\\site-packages\\tensorflow\\python\\framework\\dtypes.py:525: FutureWarning: Passing (type, 1) or '1type' as a synonym of type is deprecated; in a future version of numpy, it will be understood as (type, (1,)) / '(1,)type'.\n",
      "  np_resource = np.dtype([(\"resource\", np.ubyte, 1)])\n",
      "C:\\Users\\sony\\Anaconda3\\lib\\site-packages\\tensorboard\\compat\\tensorflow_stub\\dtypes.py:541: FutureWarning: Passing (type, 1) or '1type' as a synonym of type is deprecated; in a future version of numpy, it will be understood as (type, (1,)) / '(1,)type'.\n",
      "  _np_qint8 = np.dtype([(\"qint8\", np.int8, 1)])\n",
      "C:\\Users\\sony\\Anaconda3\\lib\\site-packages\\tensorboard\\compat\\tensorflow_stub\\dtypes.py:542: FutureWarning: Passing (type, 1) or '1type' as a synonym of type is deprecated; in a future version of numpy, it will be understood as (type, (1,)) / '(1,)type'.\n",
      "  _np_quint8 = np.dtype([(\"quint8\", np.uint8, 1)])\n",
      "C:\\Users\\sony\\Anaconda3\\lib\\site-packages\\tensorboard\\compat\\tensorflow_stub\\dtypes.py:543: FutureWarning: Passing (type, 1) or '1type' as a synonym of type is deprecated; in a future version of numpy, it will be understood as (type, (1,)) / '(1,)type'.\n",
      "  _np_qint16 = np.dtype([(\"qint16\", np.int16, 1)])\n",
      "C:\\Users\\sony\\Anaconda3\\lib\\site-packages\\tensorboard\\compat\\tensorflow_stub\\dtypes.py:544: FutureWarning: Passing (type, 1) or '1type' as a synonym of type is deprecated; in a future version of numpy, it will be understood as (type, (1,)) / '(1,)type'.\n",
      "  _np_quint16 = np.dtype([(\"quint16\", np.uint16, 1)])\n",
      "C:\\Users\\sony\\Anaconda3\\lib\\site-packages\\tensorboard\\compat\\tensorflow_stub\\dtypes.py:545: FutureWarning: Passing (type, 1) or '1type' as a synonym of type is deprecated; in a future version of numpy, it will be understood as (type, (1,)) / '(1,)type'.\n",
      "  _np_qint32 = np.dtype([(\"qint32\", np.int32, 1)])\n",
      "C:\\Users\\sony\\Anaconda3\\lib\\site-packages\\tensorboard\\compat\\tensorflow_stub\\dtypes.py:550: FutureWarning: Passing (type, 1) or '1type' as a synonym of type is deprecated; in a future version of numpy, it will be understood as (type, (1,)) / '(1,)type'.\n",
      "  np_resource = np.dtype([(\"resource\", np.ubyte, 1)])\n"
     ]
    }
   ],
   "source": [
    "import numpy\n",
    "import pandas as pd\n",
    "from keras.models import Sequential\n",
    "from keras.layers import Dense\n",
    "from keras.wrappers.scikit_learn import KerasRegressor\n",
    "from sklearn.model_selection import cross_val_score\n",
    "from sklearn.model_selection import train_test_split\n",
    "import matplotlib.pyplot as plt\n",
    "import keras\n"
   ]
  },
  {
   "cell_type": "code",
   "execution_count": 2,
   "metadata": {},
   "outputs": [],
   "source": [
    "data =pd.read_excel('reg.xlsx')\n"
   ]
  },
  {
   "cell_type": "code",
   "execution_count": 3,
   "metadata": {},
   "outputs": [],
   "source": [
    "y = data['Y']\n"
   ]
  },
  {
   "cell_type": "code",
   "execution_count": 4,
   "metadata": {},
   "outputs": [],
   "source": [
    "X = data.drop([\"Y\"],axis=1)\n"
   ]
  },
  {
   "cell_type": "code",
   "execution_count": 5,
   "metadata": {},
   "outputs": [],
   "source": [
    "X_train,X_test,y_train,y_test = train_test_split(X,y,test_size = 0.15,random_state = 1)"
   ]
  },
  {
   "cell_type": "code",
   "execution_count": 6,
   "metadata": {},
   "outputs": [
    {
     "data": {
      "text/html": [
       "<div>\n",
       "<style scoped>\n",
       "    .dataframe tbody tr th:only-of-type {\n",
       "        vertical-align: middle;\n",
       "    }\n",
       "\n",
       "    .dataframe tbody tr th {\n",
       "        vertical-align: top;\n",
       "    }\n",
       "\n",
       "    .dataframe thead th {\n",
       "        text-align: right;\n",
       "    }\n",
       "</style>\n",
       "<table border=\"1\" class=\"dataframe\">\n",
       "  <thead>\n",
       "    <tr style=\"text-align: right;\">\n",
       "      <th></th>\n",
       "      <th>A</th>\n",
       "      <th>B</th>\n",
       "      <th>C</th>\n",
       "      <th>D</th>\n",
       "      <th>E</th>\n",
       "      <th>F</th>\n",
       "      <th>G</th>\n",
       "      <th>H</th>\n",
       "      <th>J</th>\n",
       "      <th>K</th>\n",
       "      <th>L</th>\n",
       "      <th>M</th>\n",
       "    </tr>\n",
       "  </thead>\n",
       "  <tbody>\n",
       "    <tr>\n",
       "      <td>222</td>\n",
       "      <td>0.950487</td>\n",
       "      <td>1.219109</td>\n",
       "      <td>0.460604</td>\n",
       "      <td>0.765518</td>\n",
       "      <td>0.963469</td>\n",
       "      <td>2.395887</td>\n",
       "      <td>0.779212</td>\n",
       "      <td>2.409903</td>\n",
       "      <td>-0.107032</td>\n",
       "      <td>-0.263480</td>\n",
       "      <td>-0.540739</td>\n",
       "      <td>1.385857</td>\n",
       "    </tr>\n",
       "    <tr>\n",
       "      <td>249</td>\n",
       "      <td>-0.644080</td>\n",
       "      <td>-1.725650</td>\n",
       "      <td>-1.418511</td>\n",
       "      <td>-0.404830</td>\n",
       "      <td>0.347580</td>\n",
       "      <td>-0.494174</td>\n",
       "      <td>-1.581317</td>\n",
       "      <td>-0.881109</td>\n",
       "      <td>-0.489073</td>\n",
       "      <td>-0.364387</td>\n",
       "      <td>-0.707495</td>\n",
       "      <td>-1.678603</td>\n",
       "    </tr>\n",
       "    <tr>\n",
       "      <td>161</td>\n",
       "      <td>0.950487</td>\n",
       "      <td>1.000806</td>\n",
       "      <td>0.962941</td>\n",
       "      <td>0.326638</td>\n",
       "      <td>1.060178</td>\n",
       "      <td>-0.453033</td>\n",
       "      <td>0.279461</td>\n",
       "      <td>0.448158</td>\n",
       "      <td>0.127953</td>\n",
       "      <td>-0.437119</td>\n",
       "      <td>-0.707495</td>\n",
       "      <td>0.895543</td>\n",
       "    </tr>\n",
       "    <tr>\n",
       "      <td>16</td>\n",
       "      <td>0.153203</td>\n",
       "      <td>0.698899</td>\n",
       "      <td>0.348973</td>\n",
       "      <td>1.049500</td>\n",
       "      <td>-1.203478</td>\n",
       "      <td>-0.448331</td>\n",
       "      <td>1.512890</td>\n",
       "      <td>0.865223</td>\n",
       "      <td>0.000606</td>\n",
       "      <td>2.894784</td>\n",
       "      <td>0.626551</td>\n",
       "      <td>0.711676</td>\n",
       "    </tr>\n",
       "    <tr>\n",
       "      <td>208</td>\n",
       "      <td>-0.644080</td>\n",
       "      <td>-1.346640</td>\n",
       "      <td>-0.767332</td>\n",
       "      <td>-0.189692</td>\n",
       "      <td>0.196731</td>\n",
       "      <td>1.874767</td>\n",
       "      <td>-0.241557</td>\n",
       "      <td>-0.856493</td>\n",
       "      <td>-0.329889</td>\n",
       "      <td>-0.225337</td>\n",
       "      <td>-0.651910</td>\n",
       "      <td>-1.310868</td>\n",
       "    </tr>\n",
       "    <tr>\n",
       "      <td>...</td>\n",
       "      <td>...</td>\n",
       "      <td>...</td>\n",
       "      <td>...</td>\n",
       "      <td>...</td>\n",
       "      <td>...</td>\n",
       "      <td>...</td>\n",
       "      <td>...</td>\n",
       "      <td>...</td>\n",
       "      <td>...</td>\n",
       "      <td>...</td>\n",
       "      <td>...</td>\n",
       "      <td>...</td>\n",
       "    </tr>\n",
       "    <tr>\n",
       "      <td>203</td>\n",
       "      <td>-0.644080</td>\n",
       "      <td>-1.085607</td>\n",
       "      <td>-0.618492</td>\n",
       "      <td>-0.508096</td>\n",
       "      <td>0.194880</td>\n",
       "      <td>-0.500834</td>\n",
       "      <td>-0.018264</td>\n",
       "      <td>-0.811848</td>\n",
       "      <td>0.070344</td>\n",
       "      <td>-0.288299</td>\n",
       "      <td>-0.614853</td>\n",
       "      <td>-1.249578</td>\n",
       "    </tr>\n",
       "    <tr>\n",
       "      <td>255</td>\n",
       "      <td>-0.644080</td>\n",
       "      <td>-0.691733</td>\n",
       "      <td>-1.306880</td>\n",
       "      <td>0.481537</td>\n",
       "      <td>-1.344610</td>\n",
       "      <td>-0.505928</td>\n",
       "      <td>-1.060299</td>\n",
       "      <td>-0.940236</td>\n",
       "      <td>0.694950</td>\n",
       "      <td>-0.372331</td>\n",
       "      <td>0.311568</td>\n",
       "      <td>-0.697976</td>\n",
       "    </tr>\n",
       "    <tr>\n",
       "      <td>72</td>\n",
       "      <td>0.153203</td>\n",
       "      <td>0.634802</td>\n",
       "      <td>0.944336</td>\n",
       "      <td>0.472931</td>\n",
       "      <td>0.498429</td>\n",
       "      <td>2.207814</td>\n",
       "      <td>1.130102</td>\n",
       "      <td>0.682843</td>\n",
       "      <td>-0.205574</td>\n",
       "      <td>0.210117</td>\n",
       "      <td>-0.299870</td>\n",
       "      <td>0.037495</td>\n",
       "    </tr>\n",
       "    <tr>\n",
       "      <td>235</td>\n",
       "      <td>0.153203</td>\n",
       "      <td>0.290163</td>\n",
       "      <td>-0.060339</td>\n",
       "      <td>0.266399</td>\n",
       "      <td>0.388300</td>\n",
       "      <td>-0.489472</td>\n",
       "      <td>0.247562</td>\n",
       "      <td>-0.743167</td>\n",
       "      <td>0.337166</td>\n",
       "      <td>-0.114957</td>\n",
       "      <td>-0.299870</td>\n",
       "      <td>0.343941</td>\n",
       "    </tr>\n",
       "    <tr>\n",
       "      <td>37</td>\n",
       "      <td>-0.644080</td>\n",
       "      <td>-1.274183</td>\n",
       "      <td>-0.767332</td>\n",
       "      <td>-1.489123</td>\n",
       "      <td>0.270767</td>\n",
       "      <td>-0.520817</td>\n",
       "      <td>-2.155499</td>\n",
       "      <td>-0.648078</td>\n",
       "      <td>0.046087</td>\n",
       "      <td>-0.463863</td>\n",
       "      <td>-0.466626</td>\n",
       "      <td>-0.881843</td>\n",
       "    </tr>\n",
       "  </tbody>\n",
       "</table>\n",
       "<p>255 rows × 12 columns</p>\n",
       "</div>"
      ],
      "text/plain": [
       "            A         B         C         D         E         F         G  \\\n",
       "222  0.950487  1.219109  0.460604  0.765518  0.963469  2.395887  0.779212   \n",
       "249 -0.644080 -1.725650 -1.418511 -0.404830  0.347580 -0.494174 -1.581317   \n",
       "161  0.950487  1.000806  0.962941  0.326638  1.060178 -0.453033  0.279461   \n",
       "16   0.153203  0.698899  0.348973  1.049500 -1.203478 -0.448331  1.512890   \n",
       "208 -0.644080 -1.346640 -0.767332 -0.189692  0.196731  1.874767 -0.241557   \n",
       "..        ...       ...       ...       ...       ...       ...       ...   \n",
       "203 -0.644080 -1.085607 -0.618492 -0.508096  0.194880 -0.500834 -0.018264   \n",
       "255 -0.644080 -0.691733 -1.306880  0.481537 -1.344610 -0.505928 -1.060299   \n",
       "72   0.153203  0.634802  0.944336  0.472931  0.498429  2.207814  1.130102   \n",
       "235  0.153203  0.290163 -0.060339  0.266399  0.388300 -0.489472  0.247562   \n",
       "37  -0.644080 -1.274183 -0.767332 -1.489123  0.270767 -0.520817 -2.155499   \n",
       "\n",
       "            H         J         K         L         M  \n",
       "222  2.409903 -0.107032 -0.263480 -0.540739  1.385857  \n",
       "249 -0.881109 -0.489073 -0.364387 -0.707495 -1.678603  \n",
       "161  0.448158  0.127953 -0.437119 -0.707495  0.895543  \n",
       "16   0.865223  0.000606  2.894784  0.626551  0.711676  \n",
       "208 -0.856493 -0.329889 -0.225337 -0.651910 -1.310868  \n",
       "..        ...       ...       ...       ...       ...  \n",
       "203 -0.811848  0.070344 -0.288299 -0.614853 -1.249578  \n",
       "255 -0.940236  0.694950 -0.372331  0.311568 -0.697976  \n",
       "72   0.682843 -0.205574  0.210117 -0.299870  0.037495  \n",
       "235 -0.743167  0.337166 -0.114957 -0.299870  0.343941  \n",
       "37  -0.648078  0.046087 -0.463863 -0.466626 -0.881843  \n",
       "\n",
       "[255 rows x 12 columns]"
      ]
     },
     "execution_count": 6,
     "metadata": {},
     "output_type": "execute_result"
    }
   ],
   "source": [
    "ortalama=X_train.mean(axis=0)\n",
    "StS=X_train.std(axis=0)\n",
    "\n",
    "X_train -= ortalama\n",
    "X_train /=StS\n",
    "\n",
    "X_train"
   ]
  },
  {
   "cell_type": "code",
   "execution_count": 7,
   "metadata": {},
   "outputs": [],
   "source": [
    "ortalama=X_test.mean(axis=0)\n",
    "StS=X_test.std(axis=0)\n",
    "\n",
    "X_test -= ortalama\n",
    "X_test /=StS\n"
   ]
  },
  {
   "cell_type": "code",
   "execution_count": 8,
   "metadata": {},
   "outputs": [],
   "source": [
    "model = Sequential()\n",
    "model.add(Dense(200, input_dim=X_train.shape[1], activation='relu'))  # ilk katmanda sütun sayısı kadar düğüm olacağı için X_train.shape[1]\n",
    "model.add(Dense(200, input_dim=200, activation='relu'))\n",
    "model.add(Dense(200, input_dim=200, activation='relu'))\n",
    "model.add(Dense(1, activation='linear'))"
   ]
  },
  {
   "cell_type": "code",
   "execution_count": 9,
   "metadata": {},
   "outputs": [],
   "source": [
    "model.compile(loss='mean_squared_error', optimizer='adam')"
   ]
  },
  {
   "cell_type": "code",
   "execution_count": 10,
   "metadata": {},
   "outputs": [
    {
     "name": "stdout",
     "output_type": "stream",
     "text": [
      "Model: \"sequential_1\"\n",
      "_________________________________________________________________\n",
      "Layer (type)                 Output Shape              Param #   \n",
      "=================================================================\n",
      "dense_1 (Dense)              (None, 200)               2600      \n",
      "_________________________________________________________________\n",
      "dense_2 (Dense)              (None, 200)               40200     \n",
      "_________________________________________________________________\n",
      "dense_3 (Dense)              (None, 200)               40200     \n",
      "_________________________________________________________________\n",
      "dense_4 (Dense)              (None, 1)                 201       \n",
      "=================================================================\n",
      "Total params: 83,201\n",
      "Trainable params: 83,201\n",
      "Non-trainable params: 0\n",
      "_________________________________________________________________\n"
     ]
    }
   ],
   "source": [
    "model.summary()"
   ]
  },
  {
   "cell_type": "code",
   "execution_count": 11,
   "metadata": {},
   "outputs": [
    {
     "name": "stdout",
     "output_type": "stream",
     "text": [
      "WARNING:tensorflow:From C:\\Users\\sony\\Anaconda3\\lib\\site-packages\\keras\\backend\\tensorflow_backend.py:422: The name tf.global_variables is deprecated. Please use tf.compat.v1.global_variables instead.\n",
      "\n",
      "Epoch 1/50\n",
      "255/255 [==============================] - 0s 2ms/step - loss: 1769914.1044\n",
      "Epoch 2/50\n",
      "255/255 [==============================] - 0s 118us/step - loss: 1762385.7637\n",
      "Epoch 3/50\n",
      "255/255 [==============================] - 0s 122us/step - loss: 1743475.0162\n",
      "Epoch 4/50\n",
      "255/255 [==============================] - 0s 118us/step - loss: 1695975.7833\n",
      "Epoch 5/50\n",
      "255/255 [==============================] - 0s 122us/step - loss: 1598158.2388\n",
      "Epoch 6/50\n",
      "255/255 [==============================] - 0s 129us/step - loss: 1437603.3966\n",
      "Epoch 7/50\n",
      "255/255 [==============================] - 0s 137us/step - loss: 1224587.2706\n",
      "Epoch 8/50\n",
      "255/255 [==============================] - 0s 133us/step - loss: 1067313.7794\n",
      "Epoch 9/50\n",
      "255/255 [==============================] - 0s 180us/step - loss: 1083235.5772\n",
      "Epoch 10/50\n",
      "255/255 [==============================] - 0s 153us/step - loss: 1056661.8980\n",
      "Epoch 11/50\n",
      "255/255 [==============================] - 0s 118us/step - loss: 1043181.3456\n",
      "Epoch 12/50\n",
      "255/255 [==============================] - 0s 118us/step - loss: 1037717.9206\n",
      "Epoch 13/50\n",
      "255/255 [==============================] - 0s 118us/step - loss: 1028825.3569\n",
      "Epoch 14/50\n",
      "255/255 [==============================] - 0s 118us/step - loss: 1021211.4156\n",
      "Epoch 15/50\n",
      "255/255 [==============================] - 0s 122us/step - loss: 1015888.8729\n",
      "Epoch 16/50\n",
      "255/255 [==============================] - 0s 125us/step - loss: 1013185.8309\n",
      "Epoch 17/50\n",
      "255/255 [==============================] - 0s 126us/step - loss: 1007768.5029\n",
      "Epoch 18/50\n",
      "255/255 [==============================] - 0s 125us/step - loss: 1003568.4199\n",
      "Epoch 19/50\n",
      "255/255 [==============================] - 0s 125us/step - loss: 1000662.7512\n",
      "Epoch 20/50\n",
      "255/255 [==============================] - 0s 126us/step - loss: 1004454.7420\n",
      "Epoch 21/50\n",
      "255/255 [==============================] - 0s 165us/step - loss: 996201.0403\n",
      "Epoch 22/50\n",
      "255/255 [==============================] - 0s 133us/step - loss: 996390.8725\n",
      "Epoch 23/50\n",
      "255/255 [==============================] - 0s 129us/step - loss: 995686.5311\n",
      "Epoch 24/50\n",
      "255/255 [==============================] - 0s 129us/step - loss: 987718.8078\n",
      "Epoch 25/50\n",
      "255/255 [==============================] - 0s 122us/step - loss: 985023.0480\n",
      "Epoch 26/50\n",
      "255/255 [==============================] - 0s 114us/step - loss: 984764.0824\n",
      "Epoch 27/50\n",
      "255/255 [==============================] - 0s 125us/step - loss: 982637.3882\n",
      "Epoch 28/50\n",
      "255/255 [==============================] - 0s 122us/step - loss: 978809.5808\n",
      "Epoch 29/50\n",
      "255/255 [==============================] - 0s 114us/step - loss: 978530.2616\n",
      "Epoch 30/50\n",
      "255/255 [==============================] - 0s 118us/step - loss: 977240.7294\n",
      "Epoch 31/50\n",
      "255/255 [==============================] - 0s 153us/step - loss: 972648.1534\n",
      "Epoch 32/50\n",
      "255/255 [==============================] - 0s 149us/step - loss: 974922.1382\n",
      "Epoch 33/50\n",
      "255/255 [==============================] - 0s 141us/step - loss: 971321.2165\n",
      "Epoch 34/50\n",
      "255/255 [==============================] - 0s 173us/step - loss: 967142.4167\n",
      "Epoch 35/50\n",
      "255/255 [==============================] - 0s 133us/step - loss: 965733.6560\n",
      "Epoch 36/50\n",
      "255/255 [==============================] - 0s 133us/step - loss: 964036.9529\n",
      "Epoch 37/50\n",
      "255/255 [==============================] - 0s 165us/step - loss: 963762.2936\n",
      "Epoch 38/50\n",
      "255/255 [==============================] - 0s 137us/step - loss: 960577.2321\n",
      "Epoch 39/50\n",
      "255/255 [==============================] - 0s 129us/step - loss: 960704.9216\n",
      "Epoch 40/50\n",
      "255/255 [==============================] - 0s 129us/step - loss: 956673.2551\n",
      "Epoch 41/50\n",
      "255/255 [==============================] - 0s 196us/step - loss: 954420.1593\n",
      "Epoch 42/50\n",
      "255/255 [==============================] - 0s 294us/step - loss: 951790.8466\n",
      "Epoch 43/50\n",
      "255/255 [==============================] - 0s 424us/step - loss: 951681.0025\n",
      "Epoch 44/50\n",
      "255/255 [==============================] - 0s 227us/step - loss: 949911.1963\n",
      "Epoch 45/50\n",
      "255/255 [==============================] - 0s 220us/step - loss: 946474.5696\n",
      "Epoch 46/50\n",
      "255/255 [==============================] - 0s 184us/step - loss: 945148.0794\n",
      "Epoch 47/50\n",
      "255/255 [==============================] - 0s 267us/step - loss: 944539.3824\n",
      "Epoch 48/50\n",
      "255/255 [==============================] - 0s 145us/step - loss: 942203.4963\n",
      "Epoch 49/50\n",
      "255/255 [==============================] - 0s 145us/step - loss: 940312.7223\n",
      "Epoch 50/50\n",
      "255/255 [==============================] - 0s 133us/step - loss: 935309.6321\n"
     ]
    }
   ],
   "source": [
    "history = model.fit(X_train, y_train, epochs=50, batch_size=32,verbose=1)"
   ]
  },
  {
   "cell_type": "code",
   "execution_count": 12,
   "metadata": {},
   "outputs": [
    {
     "name": "stdout",
     "output_type": "stream",
     "text": [
      "255/255 [==============================] - 1s 5ms/step\n"
     ]
    },
    {
     "data": {
      "text/plain": [
       "931665.8264705882"
      ]
     },
     "execution_count": 12,
     "metadata": {},
     "output_type": "execute_result"
    }
   ],
   "source": [
    "mse_train=model.evaluate(X_train, y_train)\n",
    "mse_train"
   ]
  },
  {
   "cell_type": "code",
   "execution_count": 13,
   "metadata": {},
   "outputs": [
    {
     "name": "stdout",
     "output_type": "stream",
     "text": [
      "45/45 [==============================] - 0s 200us/step\n"
     ]
    },
    {
     "data": {
      "text/plain": [
       "1076790.663888889"
      ]
     },
     "execution_count": 13,
     "metadata": {},
     "output_type": "execute_result"
    }
   ],
   "source": [
    "mse_test=model.evaluate(X_test,y_test)\n",
    "mse_test"
   ]
  },
  {
   "cell_type": "code",
   "execution_count": 14,
   "metadata": {},
   "outputs": [],
   "source": [
    "predictions = model.predict(X_test)"
   ]
  },
  {
   "cell_type": "code",
   "execution_count": 15,
   "metadata": {},
   "outputs": [
    {
     "data": {
      "text/plain": [
       "Text(0, 0.5, 'Predicted Y')"
      ]
     },
     "execution_count": 15,
     "metadata": {},
     "output_type": "execute_result"
    },
    {
     "data": {
      "image/png": "[encoded data removed]",
      "text/plain": [
       "<Figure size 432x288 with 1 Axes>"
      ]
     },
     "metadata": {
      "needs_background": "light"
     },
     "output_type": "display_data"
    }
   ],
   "source": [
    "plt.scatter(y_test,predictions)\n",
    "plt.xlabel('Y Test')\n",
    "plt.ylabel('Predicted Y')"
   ]
  },
  {
   "cell_type": "code",
   "execution_count": 16,
   "metadata": {},
   "outputs": [
    {
     "data": {
      "text/plain": [
       "0.05576820892663559"
      ]
     },
     "execution_count": 16,
     "metadata": {},
     "output_type": "execute_result"
    }
   ],
   "source": [
    "from sklearn.metrics import r2_score\n",
    "r2_score(y_test,predictions)"
   ]
  },
  {
   "cell_type": "code",
   "execution_count": null,
   "metadata": {},
   "outputs": [],
   "source": []
  }
 ],
 "metadata": {
  "kernelspec": {
   "display_name": "Python 3",
   "language": "python",
   "name": "python3"
  },
  "language_info": {
   "codemirror_mode": {
    "name": "ipython",
    "version": 3
   },
   "file_extension": ".py",
   "mimetype": "text/x-python",
   "name": "python",
   "nbconvert_exporter": "python",
   "pygments_lexer": "ipython3",
   "version": "3.7.4"
  }
 },
 "nbformat": 4,
 "nbformat_minor": 2
}
